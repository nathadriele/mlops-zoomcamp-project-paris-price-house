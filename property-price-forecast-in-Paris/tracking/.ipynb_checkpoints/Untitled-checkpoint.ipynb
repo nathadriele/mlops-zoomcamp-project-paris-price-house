{
 "cells": [
  {
   "cell_type": "code",
   "execution_count": null,
   "id": "20791554-f57b-4cec-b4e2-5a289c9ddeb3",
   "metadata": {},
   "outputs": [],
   "source": []
  }
 ],
 "metadata": {
  "kernelspec": {
   "display_name": "",
   "name": ""
  },
  "language_info": {
   "name": ""
  }
 },
 "nbformat": 4,
 "nbformat_minor": 5
}
